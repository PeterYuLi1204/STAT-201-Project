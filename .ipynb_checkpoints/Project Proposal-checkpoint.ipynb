{
 "cells": [
  {
   "cell_type": "code",
   "execution_count": 12,
   "id": "32efe009-afe9-479d-9a1d-810a60f43f6b",
   "metadata": {
    "tags": []
   },
   "outputs": [],
   "source": [
    "library(tidyverse)\n",
    "library(broom)\n",
    "library(repr)\n",
    "library(digest)\n",
    "library(infer)"
   ]
  },
  {
   "cell_type": "markdown",
   "id": "8ad08169-0f4f-4709-be63-9622ce36d180",
   "metadata": {},
   "source": [
    "## **Introduction**"
   ]
  },
  {
   "cell_type": "markdown",
   "id": "a082539e-8c00-4074-bbb4-a55d526054a2",
   "metadata": {},
   "source": [
    "Students who participate in extracurricular activities, such as regular artistic or physical activities, can gain additional transferable skills. Yet, there are concerns that this involvement may come at the cost of dedicating less time to academic studies, leading to negative performance in school. However, an analytical research paper by Ribeiro (2023) reveals that the majority of past clinical trials found a positive correlation between extracurricular activities and academic success. Extracurricular activities had benefits for mental health and suicide prevention among college students, contributing to better grades in school. Similarly, another study found that it enhances leadership, time management, and social skills, ultimately contributing to improved academic performance (Christison, 2013). A study by Wang (2023) found that students who participated in extracurricular activities received similar grades as students who did not, suggesting that participation in extracurricular activities does not compromise academic performance. Collectively, these studies consistently show a positive correlation between extracurricular activities and academic success. Our statistical analysis aims to confirm the validity of this trend."
   ]
  },
  {
   "cell_type": "markdown",
   "id": "84089679-42a4-4b94-b46f-471792552a03",
   "metadata": {},
   "source": [
    "## **Preliminary Results**"
   ]
  },
  {
   "cell_type": "code",
   "execution_count": 13,
   "id": "11d4a56b-b331-4945-8cf1-187adc42eb9e",
   "metadata": {
    "tags": []
   },
   "outputs": [
    {
     "name": "stderr",
     "output_type": "stream",
     "text": [
      "\u001b[1m\u001b[22mNew names:\n",
      "\u001b[36m•\u001b[39m `Reading frequency` -> `Reading frequency...19`\n",
      "\u001b[36m•\u001b[39m `Reading frequency` -> `Reading frequency...20`\n",
      "\u001b[1mRows: \u001b[22m\u001b[34m145\u001b[39m \u001b[1mColumns: \u001b[22m\u001b[34m33\u001b[39m\n",
      "\u001b[36m──\u001b[39m \u001b[1mColumn specification\u001b[22m \u001b[36m────────────────────────────────────────────────────────\u001b[39m\n",
      "\u001b[1mDelimiter:\u001b[22m \",\"\n",
      "\u001b[31mchr\u001b[39m  (1): STUDENT ID\n",
      "\u001b[32mdbl\u001b[39m (32): Student Age, Sex, Graduated high-school type, Scholarship type, Ad...\n",
      "\n",
      "\u001b[36mℹ\u001b[39m Use `spec()` to retrieve the full column specification for this data.\n",
      "\u001b[36mℹ\u001b[39m Specify the column types or set `show_col_types = FALSE` to quiet this message.\n"
     ]
    },
    {
     "data": {
      "text/html": [
       "<table class=\"dataframe\">\n",
       "<caption>A tibble: 6 × 33</caption>\n",
       "<thead>\n",
       "\t<tr><th scope=col>STUDENT ID</th><th scope=col>Student Age</th><th scope=col>Sex</th><th scope=col>Graduated high-school type</th><th scope=col>Scholarship type</th><th scope=col>Additional work</th><th scope=col>Regular artistic or sports activity</th><th scope=col>Do you have a partner</th><th scope=col>Total salary if available</th><th scope=col>Transportation to the university</th><th scope=col>⋯</th><th scope=col>Preparation to midterm exams 1</th><th scope=col>Preparation to midterm exams 2</th><th scope=col>Taking notes in classes</th><th scope=col>Listening in classes</th><th scope=col>Discussion improves my interest and success in the course</th><th scope=col>Flip-classroom</th><th scope=col>Cumulative grade point average in the last semester (/4.00)</th><th scope=col>Expected Cumulative grade point average in the graduation (/4.00)</th><th scope=col>COURSE ID</th><th scope=col>GRADE</th></tr>\n",
       "\t<tr><th scope=col>&lt;chr&gt;</th><th scope=col>&lt;dbl&gt;</th><th scope=col>&lt;dbl&gt;</th><th scope=col>&lt;dbl&gt;</th><th scope=col>&lt;dbl&gt;</th><th scope=col>&lt;dbl&gt;</th><th scope=col>&lt;dbl&gt;</th><th scope=col>&lt;dbl&gt;</th><th scope=col>&lt;dbl&gt;</th><th scope=col>&lt;dbl&gt;</th><th scope=col>⋯</th><th scope=col>&lt;dbl&gt;</th><th scope=col>&lt;dbl&gt;</th><th scope=col>&lt;dbl&gt;</th><th scope=col>&lt;dbl&gt;</th><th scope=col>&lt;dbl&gt;</th><th scope=col>&lt;dbl&gt;</th><th scope=col>&lt;dbl&gt;</th><th scope=col>&lt;dbl&gt;</th><th scope=col>&lt;dbl&gt;</th><th scope=col>&lt;dbl&gt;</th></tr>\n",
       "</thead>\n",
       "<tbody>\n",
       "\t<tr><td>STUDENT1</td><td>2</td><td>2</td><td>3</td><td>3</td><td>1</td><td>2</td><td>2</td><td>1</td><td>1</td><td>⋯</td><td>1</td><td>1</td><td>3</td><td>2</td><td>1</td><td>2</td><td>1</td><td>1</td><td>1</td><td>1</td></tr>\n",
       "\t<tr><td>STUDENT2</td><td>2</td><td>2</td><td>3</td><td>3</td><td>1</td><td>2</td><td>2</td><td>1</td><td>1</td><td>⋯</td><td>1</td><td>1</td><td>3</td><td>2</td><td>3</td><td>2</td><td>2</td><td>3</td><td>1</td><td>1</td></tr>\n",
       "\t<tr><td>STUDENT3</td><td>2</td><td>2</td><td>2</td><td>3</td><td>2</td><td>2</td><td>2</td><td>2</td><td>4</td><td>⋯</td><td>1</td><td>1</td><td>2</td><td>2</td><td>1</td><td>1</td><td>2</td><td>2</td><td>1</td><td>1</td></tr>\n",
       "\t<tr><td>STUDENT4</td><td>1</td><td>1</td><td>1</td><td>3</td><td>1</td><td>2</td><td>1</td><td>2</td><td>1</td><td>⋯</td><td>1</td><td>2</td><td>3</td><td>2</td><td>2</td><td>1</td><td>3</td><td>2</td><td>1</td><td>1</td></tr>\n",
       "\t<tr><td>STUDENT5</td><td>2</td><td>2</td><td>1</td><td>3</td><td>2</td><td>2</td><td>1</td><td>3</td><td>1</td><td>⋯</td><td>2</td><td>1</td><td>2</td><td>2</td><td>2</td><td>1</td><td>2</td><td>2</td><td>1</td><td>1</td></tr>\n",
       "\t<tr><td>STUDENT6</td><td>2</td><td>2</td><td>2</td><td>3</td><td>2</td><td>2</td><td>2</td><td>2</td><td>1</td><td>⋯</td><td>1</td><td>1</td><td>1</td><td>2</td><td>1</td><td>2</td><td>4</td><td>4</td><td>1</td><td>2</td></tr>\n",
       "</tbody>\n",
       "</table>\n"
      ],
      "text/latex": [
       "A tibble: 6 × 33\n",
       "\\begin{tabular}{lllllllllllllllllllll}\n",
       " STUDENT ID & Student Age & Sex & Graduated high-school type & Scholarship type & Additional work & Regular artistic or sports activity & Do you have a partner & Total salary if available & Transportation to the university & ⋯ & Preparation to midterm exams 1 & Preparation to midterm exams 2 & Taking notes in classes & Listening in classes & Discussion improves my interest and success in the course & Flip-classroom & Cumulative grade point average in the last semester (/4.00) & Expected Cumulative grade point average in the graduation (/4.00) & COURSE ID & GRADE\\\\\n",
       " <chr> & <dbl> & <dbl> & <dbl> & <dbl> & <dbl> & <dbl> & <dbl> & <dbl> & <dbl> & ⋯ & <dbl> & <dbl> & <dbl> & <dbl> & <dbl> & <dbl> & <dbl> & <dbl> & <dbl> & <dbl>\\\\\n",
       "\\hline\n",
       "\t STUDENT1 & 2 & 2 & 3 & 3 & 1 & 2 & 2 & 1 & 1 & ⋯ & 1 & 1 & 3 & 2 & 1 & 2 & 1 & 1 & 1 & 1\\\\\n",
       "\t STUDENT2 & 2 & 2 & 3 & 3 & 1 & 2 & 2 & 1 & 1 & ⋯ & 1 & 1 & 3 & 2 & 3 & 2 & 2 & 3 & 1 & 1\\\\\n",
       "\t STUDENT3 & 2 & 2 & 2 & 3 & 2 & 2 & 2 & 2 & 4 & ⋯ & 1 & 1 & 2 & 2 & 1 & 1 & 2 & 2 & 1 & 1\\\\\n",
       "\t STUDENT4 & 1 & 1 & 1 & 3 & 1 & 2 & 1 & 2 & 1 & ⋯ & 1 & 2 & 3 & 2 & 2 & 1 & 3 & 2 & 1 & 1\\\\\n",
       "\t STUDENT5 & 2 & 2 & 1 & 3 & 2 & 2 & 1 & 3 & 1 & ⋯ & 2 & 1 & 2 & 2 & 2 & 1 & 2 & 2 & 1 & 1\\\\\n",
       "\t STUDENT6 & 2 & 2 & 2 & 3 & 2 & 2 & 2 & 2 & 1 & ⋯ & 1 & 1 & 1 & 2 & 1 & 2 & 4 & 4 & 1 & 2\\\\\n",
       "\\end{tabular}\n"
      ],
      "text/markdown": [
       "\n",
       "A tibble: 6 × 33\n",
       "\n",
       "| STUDENT ID &lt;chr&gt; | Student Age &lt;dbl&gt; | Sex &lt;dbl&gt; | Graduated high-school type &lt;dbl&gt; | Scholarship type &lt;dbl&gt; | Additional work &lt;dbl&gt; | Regular artistic or sports activity &lt;dbl&gt; | Do you have a partner &lt;dbl&gt; | Total salary if available &lt;dbl&gt; | Transportation to the university &lt;dbl&gt; | ⋯ ⋯ | Preparation to midterm exams 1 &lt;dbl&gt; | Preparation to midterm exams 2 &lt;dbl&gt; | Taking notes in classes &lt;dbl&gt; | Listening in classes &lt;dbl&gt; | Discussion improves my interest and success in the course &lt;dbl&gt; | Flip-classroom &lt;dbl&gt; | Cumulative grade point average in the last semester (/4.00) &lt;dbl&gt; | Expected Cumulative grade point average in the graduation (/4.00) &lt;dbl&gt; | COURSE ID &lt;dbl&gt; | GRADE &lt;dbl&gt; |\n",
       "|---|---|---|---|---|---|---|---|---|---|---|---|---|---|---|---|---|---|---|---|---|\n",
       "| STUDENT1 | 2 | 2 | 3 | 3 | 1 | 2 | 2 | 1 | 1 | ⋯ | 1 | 1 | 3 | 2 | 1 | 2 | 1 | 1 | 1 | 1 |\n",
       "| STUDENT2 | 2 | 2 | 3 | 3 | 1 | 2 | 2 | 1 | 1 | ⋯ | 1 | 1 | 3 | 2 | 3 | 2 | 2 | 3 | 1 | 1 |\n",
       "| STUDENT3 | 2 | 2 | 2 | 3 | 2 | 2 | 2 | 2 | 4 | ⋯ | 1 | 1 | 2 | 2 | 1 | 1 | 2 | 2 | 1 | 1 |\n",
       "| STUDENT4 | 1 | 1 | 1 | 3 | 1 | 2 | 1 | 2 | 1 | ⋯ | 1 | 2 | 3 | 2 | 2 | 1 | 3 | 2 | 1 | 1 |\n",
       "| STUDENT5 | 2 | 2 | 1 | 3 | 2 | 2 | 1 | 3 | 1 | ⋯ | 2 | 1 | 2 | 2 | 2 | 1 | 2 | 2 | 1 | 1 |\n",
       "| STUDENT6 | 2 | 2 | 2 | 3 | 2 | 2 | 2 | 2 | 1 | ⋯ | 1 | 1 | 1 | 2 | 1 | 2 | 4 | 4 | 1 | 2 |\n",
       "\n"
      ],
      "text/plain": [
       "  STUDENT ID Student Age Sex Graduated high-school type Scholarship type\n",
       "1 STUDENT1   2           2   3                          3               \n",
       "2 STUDENT2   2           2   3                          3               \n",
       "3 STUDENT3   2           2   2                          3               \n",
       "4 STUDENT4   1           1   1                          3               \n",
       "5 STUDENT5   2           2   1                          3               \n",
       "6 STUDENT6   2           2   2                          3               \n",
       "  Additional work Regular artistic or sports activity Do you have a partner\n",
       "1 1               2                                   2                    \n",
       "2 1               2                                   2                    \n",
       "3 2               2                                   2                    \n",
       "4 1               2                                   1                    \n",
       "5 2               2                                   1                    \n",
       "6 2               2                                   2                    \n",
       "  Total salary if available Transportation to the university ⋯\n",
       "1 1                         1                                ⋯\n",
       "2 1                         1                                ⋯\n",
       "3 2                         4                                ⋯\n",
       "4 2                         1                                ⋯\n",
       "5 3                         1                                ⋯\n",
       "6 2                         1                                ⋯\n",
       "  Preparation to midterm exams 1 Preparation to midterm exams 2\n",
       "1 1                              1                             \n",
       "2 1                              1                             \n",
       "3 1                              1                             \n",
       "4 1                              2                             \n",
       "5 2                              1                             \n",
       "6 1                              1                             \n",
       "  Taking notes in classes Listening in classes\n",
       "1 3                       2                   \n",
       "2 3                       2                   \n",
       "3 2                       2                   \n",
       "4 3                       2                   \n",
       "5 2                       2                   \n",
       "6 1                       2                   \n",
       "  Discussion improves my interest and success in the course Flip-classroom\n",
       "1 1                                                         2             \n",
       "2 3                                                         2             \n",
       "3 1                                                         1             \n",
       "4 2                                                         1             \n",
       "5 2                                                         1             \n",
       "6 1                                                         2             \n",
       "  Cumulative grade point average in the last semester (/4.00)\n",
       "1 1                                                          \n",
       "2 2                                                          \n",
       "3 2                                                          \n",
       "4 3                                                          \n",
       "5 2                                                          \n",
       "6 4                                                          \n",
       "  Expected Cumulative grade point average in the graduation (/4.00) COURSE ID\n",
       "1 1                                                                 1        \n",
       "2 3                                                                 1        \n",
       "3 2                                                                 1        \n",
       "4 2                                                                 1        \n",
       "5 2                                                                 1        \n",
       "6 4                                                                 1        \n",
       "  GRADE\n",
       "1 1    \n",
       "2 1    \n",
       "3 1    \n",
       "4 1    \n",
       "5 1    \n",
       "6 2    "
      ]
     },
     "metadata": {},
     "output_type": "display_data"
    }
   ],
   "source": [
    "url <- \"https://raw.githubusercontent.com/PeterYuLi1204/STAT-201-Project/main/StudentsPerformance_with_headers.csv\" \n",
    "student_data <- read_csv(url) \n",
    "head(student_data)"
   ]
  },
  {
   "cell_type": "code",
   "execution_count": null,
   "id": "4de8b8ac-5d18-4096-b5da-c48d7404084c",
   "metadata": {
    "tags": []
   },
   "outputs": [],
   "source": []
  },
  {
   "cell_type": "markdown",
   "id": "2dc9b468-0cbd-45ee-ad93-984d3bb44dca",
   "metadata": {},
   "source": [
    "## **Methods and Plan**"
   ]
  },
  {
   "cell_type": "markdown",
   "id": "864e4dff-a35b-40bf-afed-46caea05ab94",
   "metadata": {},
   "source": [
    "## **References**"
   ]
  },
  {
   "cell_type": "markdown",
   "id": "78f6e44a-bec1-4a16-a469-577a1d80d734",
   "metadata": {},
   "source": [
    "Christison, C. (2013). The benefits of participating in extracurricular activities. BU Journal of Graduate Studies in Education, 5(2), 17.\n",
    "\n",
    "Ribeiro, N., Malafaia, C., Neves, T., & Menezes, I. (2023). The impact of extracurricular activities on university students' academic success and employability. European Journal of Higher Education, ahead-of-print(ahead-of-print), 1-21. https://doi.org/10.1080/21568235.2023.2202874\n",
    "\n",
    "Wang, D., Xiong, R., Zhang, J., Han, X., Jin, L., Liu, W., Qu, Y., Chen, Q., Chen, S., Chen, X., Li, Y., He, M., Zeng, Y., & Liu, Y. (2023). Effect of extracurricular after-school physical activities on academic performance of schoolchildren: A cluster randomized clinical trial. JAMA Pediatrics, https://doi.org/10.1001/jamapediatrics.2023.3615\n"
   ]
  }
 ],
 "metadata": {
  "kernelspec": {
   "display_name": "R",
   "language": "R",
   "name": "ir"
  },
  "language_info": {
   "codemirror_mode": "r",
   "file_extension": ".r",
   "mimetype": "text/x-r-source",
   "name": "R",
   "pygments_lexer": "r",
   "version": "4.2.3"
  }
 },
 "nbformat": 4,
 "nbformat_minor": 5
}
