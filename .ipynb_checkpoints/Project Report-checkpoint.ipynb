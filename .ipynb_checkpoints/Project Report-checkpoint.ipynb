{
 "cells": [
  {
   "cell_type": "markdown",
   "id": "6fe40ea2-9ae4-4842-b281-c98d90b91572",
   "metadata": {},
   "source": [
    "# **TITLE**\n",
    "****"
   ]
  },
  {
   "cell_type": "markdown",
   "id": "bca36e28-2f29-4c2b-9f0c-01b448714935",
   "metadata": {},
   "source": [
    "## **Introduction**"
   ]
  },
  {
   "cell_type": "code",
   "execution_count": null,
   "id": "21a3cfb2-8061-4017-8a60-ceb44cf3c96d",
   "metadata": {},
   "outputs": [],
   "source": []
  },
  {
   "cell_type": "markdown",
   "id": "d4ed0e1e-309e-4731-af74-4f38feb20199",
   "metadata": {},
   "source": [
    "## **Methods and Results**"
   ]
  },
  {
   "cell_type": "markdown",
   "id": "60785309-3701-4431-9a70-d25319ba6fa7",
   "metadata": {
    "tags": []
   },
   "source": []
  },
  {
   "cell_type": "code",
   "execution_count": null,
   "id": "05ceb19e-4cf8-406d-9690-37a5a5d71406",
   "metadata": {},
   "outputs": [],
   "source": []
  },
  {
   "cell_type": "markdown",
   "id": "bcf908a1-c441-44f8-b902-8ad999d60de8",
   "metadata": {},
   "source": [
    "## **Discussion**"
   ]
  },
  {
   "cell_type": "markdown",
   "id": "2f788901-7dec-4b92-9ea9-f9e43429f4e7",
   "metadata": {},
   "source": []
  },
  {
   "cell_type": "markdown",
   "id": "ea5b1d9a-8fe0-4025-9e2c-759d2f50c9a3",
   "metadata": {},
   "source": [
    "## **References**"
   ]
  },
  {
   "cell_type": "markdown",
   "id": "50352175-4a43-4ace-bab3-186d530b4af5",
   "metadata": {},
   "source": []
  },
  {
   "cell_type": "code",
   "execution_count": null,
   "id": "735c09c8-14e2-4686-a934-1c0cd0f8b5d2",
   "metadata": {},
   "outputs": [],
   "source": []
  }
 ],
 "metadata": {
  "kernelspec": {
   "display_name": "R",
   "language": "R",
   "name": "ir"
  },
  "language_info": {
   "codemirror_mode": "r",
   "file_extension": ".r",
   "mimetype": "text/x-r-source",
   "name": "R",
   "pygments_lexer": "r",
   "version": "4.2.3"
  }
 },
 "nbformat": 4,
 "nbformat_minor": 5
}
