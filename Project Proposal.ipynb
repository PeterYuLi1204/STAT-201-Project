{
 "cells": [
  {
   "cell_type": "code",
   "execution_count": 2,
   "id": "32efe009-afe9-479d-9a1d-810a60f43f6b",
   "metadata": {
    "tags": []
   },
   "outputs": [],
   "source": [
    "library(tidyverse)\n",
    "library(broom)\n",
    "library(repr)\n",
    "library(digest)\n",
    "library(infer)"
   ]
  },
  {
   "cell_type": "markdown",
   "id": "8ad08169-0f4f-4709-be63-9622ce36d180",
   "metadata": {},
   "source": [
    "## **Introduction**"
   ]
  },
  {
   "cell_type": "markdown",
   "id": "84089679-42a4-4b94-b46f-471792552a03",
   "metadata": {},
   "source": [
    "## **Preliminary Results**"
   ]
  },
  {
   "cell_type": "markdown",
   "id": "2dc9b468-0cbd-45ee-ad93-984d3bb44dca",
   "metadata": {},
   "source": [
    "## **Methods and Plan**"
   ]
  },
  {
   "cell_type": "markdown",
   "id": "864e4dff-a35b-40bf-afed-46caea05ab94",
   "metadata": {},
   "source": [
    "## **References**"
   ]
  },
  {
   "cell_type": "code",
   "execution_count": null,
   "id": "faa2b220-3c32-49a5-99fb-acde3b7e059c",
   "metadata": {},
   "outputs": [],
   "source": []
  }
 ],
 "metadata": {
  "kernelspec": {
   "display_name": "R",
   "language": "R",
   "name": "ir"
  },
  "language_info": {
   "codemirror_mode": "r",
   "file_extension": ".r",
   "mimetype": "text/x-r-source",
   "name": "R",
   "pygments_lexer": "r",
   "version": "4.2.3"
  }
 },
 "nbformat": 4,
 "nbformat_minor": 5
}
